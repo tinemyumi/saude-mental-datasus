{
  "cells": [
    {
      "cell_type": "markdown",
      "metadata": {
        "id": "view-in-github",
        "colab_type": "text"
      },
      "source": [
        "<a href=\"https://colab.research.google.com/github/tinemyumi/saude-mental-datasus/blob/main/codigos-python/setup.ipynb\" target=\"_parent\"><img src=\"https://colab.research.google.com/assets/colab-badge.svg\" alt=\"Open In Colab\"/></a>"
      ]
    },
    {
      "cell_type": "code",
      "execution_count": null,
      "metadata": {
        "collapsed": true,
        "id": "DREfNZV3L1N6"
      },
      "outputs": [],
      "source": [
        "# Instalação da biblioteca pysus\n",
        "!pip install pysus"
      ]
    },
    {
      "cell_type": "code",
      "execution_count": null,
      "metadata": {
        "id": "qLsIOnCYSEtR"
      },
      "outputs": [],
      "source": [
        "# Código utilizado para realizar o download da base da de dados do datasus, a respieto do SIH-SUS\n",
        "\n",
        "from pysus import SIH\n",
        "import os\n",
        "import pandas as pd\n",
        "\n",
        "# 1. Carregando a biblioteca PySUS, os arquivos do datasus\n",
        "sih = SIH().load()\n",
        "\n",
        "# 2. Definição dos anos para realizar download (como exemplo o ano de 2015, mas pode ser uma lista dos anos desejáveis)\n",
        "anos_para_baixar = [2015]\n",
        "diretorio_base = '/content/dados_sih/dados_datasus/'\n",
        "\n",
        "# 3. Loop para processar cada ano\n",
        "for ano in anos_para_baixar:\n",
        "    diretorio_ano = os.path.join(diretorio_base, str(ano))\n",
        "    os.makedirs(diretorio_ano, exist_ok=True)\n",
        "\n",
        "    print(f\"Buscando e baixando dados para o ano: {ano}...\")\n",
        "\n",
        "    # Buscando os arquivos para o ano atual e para todos os meses\n",
        "    arquivos_ano = sih.get_files(\"RD\", uf=\"sp\", year=ano, month=list(range(1, 13)))\n",
        "\n",
        "    # Baixando os arquivos para a pasta específica do ano\n",
        "    sih.download(arquivos_ano, local_dir=diretorio_ano)\n",
        "\n",
        "    print(f\"Download para {ano} concluído na pasta: {diretorio_ano}\")\n",
        "\n",
        "print(\"\\nProcesso de download para todos os anos concluído!\")"
      ]
    },
    {
      "cell_type": "code",
      "source": [
        "# Código de importação dados do content para o Google Drive\n",
        "\n",
        "from google.colab import drive\n",
        "import shutil\n",
        "\n",
        "# Monta o seu Google Drive no Colab\n",
        "drive.mount('/content/drive')\n",
        "\n",
        "# Caminho da pasta de origem no Colab\n",
        "caminho_origem = '/content/dados_sih/'\n",
        "\n",
        "# Caminho de destino Google Drive\n",
        "# A pasta principal do seu Drive é '/content/drive/MyDrive/'\n",
        "caminho_destino = '/content/drive/MyDrive/Dado DataSUS/dados_sih/'\n",
        "\n",
        "print(\"Iniciando a transferência dos arquivos para o Google Drive...\")\n",
        "\n",
        "try:\n",
        "    shutil.move(caminho_origem, caminho_destino)\n",
        "    print(\"\\nTransferência concluída com sucesso!\")\n",
        "    print(f\"Os arquivos agora estão salvos em: {caminho_destino}\")\n",
        "\n",
        "except FileNotFoundError:\n",
        "    print(\"\\nErro: A pasta de origem não foi encontrada. Verifique se o caminho está correto.\")\n",
        "\n",
        "except Exception as e:\n",
        "    print(f\"\\nOcorreu um erro durante a transferência: {e}\")\n"
      ],
      "metadata": {
        "id": "dUeo6rzn5TJ3"
      },
      "execution_count": null,
      "outputs": []
    }
  ],
  "metadata": {
    "colab": {
      "provenance": [],
      "authorship_tag": "ABX9TyO9b5eqYNz6flDpZGJBHt0T",
      "include_colab_link": true
    },
    "kernelspec": {
      "display_name": "Python 3",
      "name": "python3"
    },
    "language_info": {
      "name": "python"
    }
  },
  "nbformat": 4,
  "nbformat_minor": 0
}