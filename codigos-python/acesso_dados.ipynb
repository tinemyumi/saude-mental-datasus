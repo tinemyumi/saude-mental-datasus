{
  "nbformat": 4,
  "nbformat_minor": 0,
  "metadata": {
    "colab": {
      "provenance": [],
      "authorship_tag": "ABX9TyNkSHY8hjmmjru7o4898KCQ",
      "include_colab_link": true
    },
    "kernelspec": {
      "name": "python3",
      "display_name": "Python 3"
    },
    "language_info": {
      "name": "python"
    }
  },
  "cells": [
    {
      "cell_type": "markdown",
      "metadata": {
        "id": "view-in-github",
        "colab_type": "text"
      },
      "source": [
        "<a href=\"https://colab.research.google.com/github/tinemyumi/saude-mental-datasus/blob/main/codigos-python/acesso_dados.ipynb\" target=\"_parent\"><img src=\"https://colab.research.google.com/assets/colab-badge.svg\" alt=\"Open In Colab\"/></a>"
      ]
    },
    {
      "cell_type": "code",
      "execution_count": null,
      "metadata": {
        "id": "IGI-8Oh6-pkw"
      },
      "outputs": [],
      "source": [
        "# Código para acessar os dados no Google Drive\n",
        "\n",
        "from google.colab import drive\n",
        "import pandas as pd\n",
        "import os\n",
        "\n",
        "# 1. Monta o seu Google Drive no Colab\n",
        "drive.mount('/content/drive')\n",
        "\n",
        "# 2. Define o caminho da pasta onde os arquivos estão salvos no Google Drive\n",
        "caminho_dados_drive = '/content/drive/MyDrive/DadoDataSUS/dados_sih/'\n",
        "\n",
        "# Verifica se a pasta existe para evitar erros\n",
        "if os.path.exists(caminho_dados_drive):\n",
        "    print(\"A pasta foi encontrada no Google Drive. Listando arquivos...\")\n",
        "\n",
        "    # Lista todos os arquivos na pasta para visualização\n",
        "    arquivos_na_pasta = os.listdir(caminho_dados_drive)\n",
        "    print(arquivos_na_pasta)\n",
        "\n",
        "    # Exemplo: Se os arquivos são CSVs, você pode ler um deles assim:\n",
        "    # Substitua 'nome_do_seu_arquivo.csv' pelo nome do arquivo que você quer ler.\n",
        "    # Por exemplo: df = pd.read_csv(os.path.join(caminho_dados_drive, 'RDSP1501.DBC'))\n",
        "\n",
        "else:\n",
        "    print(\"Erro: A pasta de dados não foi encontrada. Verifique se o caminho está correto.\")\n",
        "\n",
        "print(\"\\nProcesso concluído!\")"
      ]
    }
  ]
}