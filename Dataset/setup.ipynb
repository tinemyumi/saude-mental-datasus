{
  "cells": [
    {
      "cell_type": "markdown",
      "metadata": {
        "id": "view-in-github",
        "colab_type": "text"
      },
      "source": [
        "<a href=\"https://colab.research.google.com/github/tinemyumi/saude-mental-datasus/blob/main/Dataset/setup.ipynb\" target=\"_parent\"><img src=\"https://colab.research.google.com/assets/colab-badge.svg\" alt=\"Open In Colab\"/></a>"
      ]
    },
    {
      "cell_type": "code",
      "execution_count": null,
      "metadata": {
        "collapsed": true,
        "id": "DREfNZV3L1N6"
      },
      "outputs": [],
      "source": [
        "# Instalação da biblioteca pysus\n",
        "!pip install pysus"
      ]
    },
    {
      "cell_type": "code",
      "execution_count": null,
      "metadata": {
        "id": "qLsIOnCYSEtR"
      },
      "outputs": [],
      "source": [
        "# Código utilizado para realizar o download da base da de dados do datasus, a respieto do SIH-SUS\n",
        "\n",
        "from pysus import SIH\n",
        "import os\n",
        "import pandas as pd\n",
        "\n",
        "# 1. Carregando a biblioteca PySUS, os arquivos do datasus\n",
        "sih = SIH().load()\n",
        "\n",
        "# 2. Definição dos anos para realizar download (como exemplo o ano de 2015, mas pode ser uma lista dos anos desejáveis)\n",
        "anos_para_baixar = [2015]\n",
        "diretorio_base = '/content/dados_sih/dados_datasus/'\n",
        "\n",
        "# 3. Loop para processar cada ano\n",
        "for ano in anos_para_baixar:\n",
        "    diretorio_ano = os.path.join(diretorio_base, str(ano))\n",
        "    os.makedirs(diretorio_ano, exist_ok=True)\n",
        "\n",
        "    print(f\"Buscando e baixando dados para o ano: {ano}...\")\n",
        "\n",
        "    # Buscando os arquivos para o ano atual e para todos os meses\n",
        "    arquivos_ano = sih.get_files(\"RD\", uf=\"sp\", year=ano, month=list(range(1, 13)))\n",
        "\n",
        "    # Baixando os arquivos para a pasta específica do ano\n",
        "    sih.download(arquivos_ano, local_dir=diretorio_ano)\n",
        "\n",
        "    print(f\"Download para {ano} concluído na pasta: {diretorio_ano}\")\n",
        "\n",
        "print(\"\\nProcesso de download para todos os anos concluído!\")"
      ]
    },
    {
      "cell_type": "code",
      "source": [
        "# Código de importação dados do content para o Google Drive\n",
        "\n",
        "from google.colab import drive\n",
        "import shutil\n",
        "\n",
        "# Monta o seu Google Drive no Colab\n",
        "drive.mount('/content/drive')\n",
        "\n",
        "# Caminho da pasta de origem no Colab\n",
        "caminho_origem = '/content/dados_sih/'\n",
        "\n",
        "# Caminho de destino Google Drive\n",
        "# A pasta principal do seu Drive é '/content/drive/MyDrive/'\n",
        "caminho_destino = '/content/drive/MyDrive/Dado DataSUS/dados_sih/'\n",
        "\n",
        "print(\"Iniciando a transferência dos arquivos para o Google Drive...\")\n",
        "\n",
        "try:\n",
        "    shutil.move(caminho_origem, caminho_destino)\n",
        "    print(\"\\nTransferência concluída com sucesso!\")\n",
        "    print(f\"Os arquivos agora estão salvos em: {caminho_destino}\")\n",
        "\n",
        "except FileNotFoundError:\n",
        "    print(\"\\nErro: A pasta de origem não foi encontrada. Verifique se o caminho está correto.\")\n",
        "\n",
        "except Exception as e:\n",
        "    print(f\"\\nOcorreu um erro durante a transferência: {e}\")\n"
      ],
      "metadata": {
        "id": "dUeo6rzn5TJ3"
      },
      "execution_count": null,
      "outputs": []
    },
    {
      "cell_type": "code",
      "source": [
        "# Código para acessar os dados no Google Drive\n",
        "\n",
        "from google.colab import drive\n",
        "import pandas as pd\n",
        "import os\n",
        "\n",
        "# 1. Monta o seu Google Drive no Colab\n",
        "drive.mount('/content/drive')\n",
        "\n",
        "# 2. Define o caminho da pasta onde os arquivos estão salvos no Google Drive\n",
        "caminho_dados_drive = '/content/drive/MyDrive/DadoDataSUS/dados_sih/'\n",
        "\n",
        "# Verifica se a pasta existe para evitar erros\n",
        "if os.path.exists(caminho_dados_drive):\n",
        "    print(\"A pasta foi encontrada no Google Drive. Listando arquivos...\")\n",
        "\n",
        "    # Lista todos os arquivos na pasta para visualização\n",
        "    arquivos_na_pasta = os.listdir(caminho_dados_drive)\n",
        "    print(arquivos_na_pasta)\n",
        "\n",
        "    # Exemplo: Se os arquivos são CSVs, você pode ler um deles assim:\n",
        "    # Substitua 'nome_do_seu_arquivo.csv' pelo nome do arquivo que você quer ler.\n",
        "    # Por exemplo: df = pd.read_csv(os.path.join(caminho_dados_drive, 'RDSP1501.DBC'))\n",
        "\n",
        "else:\n",
        "    print(\"Erro: A pasta de dados não foi encontrada. Verifique se o caminho está correto.\")\n",
        "\n",
        "print(\"\\nProcesso concluído!\")"
      ],
      "metadata": {
        "colab": {
          "base_uri": "https://localhost:8080/"
        },
        "id": "msOEDYWeIPU2",
        "outputId": "8f4bd4f3-e742-4422-a3b4-6535f8523bcb"
      },
      "execution_count": null,
      "outputs": [
        {
          "output_type": "stream",
          "name": "stdout",
          "text": [
            "Drive already mounted at /content/drive; to attempt to forcibly remount, call drive.mount(\"/content/drive\", force_remount=True).\n",
            "A pasta foi encontrada no Google Drive. Listando arquivos...\n",
            "['dados_datasus']\n",
            "\n",
            "Processo concluído!\n"
          ]
        }
      ]
    }
  ],
  "metadata": {
    "colab": {
      "provenance": [],
      "authorship_tag": "ABX9TyMwZU5+JBKctLpWKsSmUZIQ",
      "include_colab_link": true
    },
    "kernelspec": {
      "display_name": "Python 3",
      "name": "python3"
    },
    "language_info": {
      "name": "python"
    }
  },
  "nbformat": 4,
  "nbformat_minor": 0
}