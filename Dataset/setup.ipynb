{
  "cells": [
    {
      "cell_type": "markdown",
      "metadata": {
        "id": "view-in-github",
        "colab_type": "text"
      },
      "source": [
        "<a href=\"https://colab.research.google.com/github/tinemyumi/saude-mental-datasus/blob/main/Dataset/setup.ipynb\" target=\"_parent\"><img src=\"https://colab.research.google.com/assets/colab-badge.svg\" alt=\"Open In Colab\"/></a>"
      ]
    },
    {
      "cell_type": "code",
      "execution_count": 1,
      "metadata": {
        "colab": {
          "base_uri": "https://localhost:8080/",
          "height": 1000
        },
        "collapsed": true,
        "id": "DREfNZV3L1N6",
        "outputId": "b72144a9-8a6b-4307-df86-73aed9d9c94c"
      },
      "outputs": [
        {
          "output_type": "stream",
          "name": "stdout",
          "text": [
            "Collecting pysus\n",
            "  Downloading pysus-1.0.0-py3-none-any.whl.metadata (1.3 kB)\n",
            "Collecting Unidecode<2.0.0,>=1.3.6 (from pysus)\n",
            "  Downloading Unidecode-1.4.0-py3-none-any.whl.metadata (13 kB)\n",
            "Collecting aioftp<0.22.0,>=0.21.4 (from pysus)\n",
            "  Downloading aioftp-0.21.4-py3-none-any.whl.metadata (6.1 kB)\n",
            "Collecting bigtree<0.13.0,>=0.12.2 (from pysus)\n",
            "  Downloading bigtree-0.12.5-py3-none-any.whl.metadata (28 kB)\n",
            "Collecting dateparser<2.0.0,>=1.1.8 (from pysus)\n",
            "  Downloading dateparser-1.2.2-py3-none-any.whl.metadata (29 kB)\n",
            "Collecting dbfread==2.0.7 (from pysus)\n",
            "  Downloading dbfread-2.0.7-py2.py3-none-any.whl.metadata (3.3 kB)\n",
            "Collecting elasticsearch==7.16.2 (from elasticsearch[preprocessing]==7.16.2->pysus)\n",
            "  Downloading elasticsearch-7.16.2-py2.py3-none-any.whl.metadata (5.7 kB)\n",
            "Collecting fastparquet<=2024.11.0,>=2023.10.1 (from pysus)\n",
            "  Downloading fastparquet-2024.11.0-cp312-cp312-manylinux_2_17_x86_64.manylinux2014_x86_64.whl.metadata (4.2 kB)\n",
            "Requirement already satisfied: humanize<5.0.0,>=4.8.0 in /usr/local/lib/python3.12/dist-packages (from pysus) (4.13.0)\n",
            "Collecting loguru<0.7.0,>=0.6.0 (from pysus)\n",
            "  Downloading loguru-0.6.0-py3-none-any.whl.metadata (21 kB)\n",
            "Requirement already satisfied: numpy<3,>1 in /usr/local/lib/python3.12/dist-packages (from pysus) (2.0.2)\n",
            "Requirement already satisfied: pandas<3.0.0,>=2.2.2 in /usr/local/lib/python3.12/dist-packages (from pysus) (2.2.2)\n",
            "Requirement already satisfied: pyarrow>=11.0.0 in /usr/local/lib/python3.12/dist-packages (from pysus) (18.1.0)\n",
            "Collecting pycparser==2.21 (from pysus)\n",
            "  Downloading pycparser-2.21-py2.py3-none-any.whl.metadata (1.1 kB)\n",
            "Collecting pyreaddbc>=1.1.0 (from pysus)\n",
            "  Downloading pyreaddbc-1.2.0.tar.gz (57 kB)\n",
            "\u001b[2K     \u001b[90m━━━━━━━━━━━━━━━━━━━━━━━━━━━━━━━━━━━━━━━━\u001b[0m \u001b[32m57.7/57.7 kB\u001b[0m \u001b[31m4.1 MB/s\u001b[0m eta \u001b[36m0:00:00\u001b[0m\n",
            "\u001b[?25h  Installing build dependencies ... \u001b[?25l\u001b[?25hdone\n",
            "  Getting requirements to build wheel ... \u001b[?25l\u001b[?25hdone\n",
            "  Preparing metadata (pyproject.toml) ... \u001b[?25l\u001b[?25hdone\n",
            "Collecting python-dateutil==2.8.2 (from pysus)\n",
            "  Downloading python_dateutil-2.8.2-py2.py3-none-any.whl.metadata (8.2 kB)\n",
            "Collecting tqdm==4.64.0 (from pysus)\n",
            "  Downloading tqdm-4.64.0-py2.py3-none-any.whl.metadata (57 kB)\n",
            "\u001b[2K     \u001b[90m━━━━━━━━━━━━━━━━━━━━━━━━━━━━━━━━━━━━━━━━\u001b[0m \u001b[32m57.3/57.3 kB\u001b[0m \u001b[31m3.5 MB/s\u001b[0m eta \u001b[36m0:00:00\u001b[0m\n",
            "\u001b[?25hRequirement already satisfied: typing-extensions<5.0.0,>=4.9.0 in /usr/local/lib/python3.12/dist-packages (from pysus) (4.15.0)\n",
            "Collecting urwid<3.0.0,>=2.1.2 (from pysus)\n",
            "  Downloading urwid-2.6.16-py3-none-any.whl.metadata (11 kB)\n",
            "Collecting wget<4.0,>=3.2 (from pysus)\n",
            "  Downloading wget-3.2.zip (10 kB)\n",
            "  Preparing metadata (setup.py) ... \u001b[?25l\u001b[?25hdone\n",
            "Collecting urllib3<2,>=1.21.1 (from elasticsearch==7.16.2->elasticsearch[preprocessing]==7.16.2->pysus)\n",
            "  Downloading urllib3-1.26.20-py2.py3-none-any.whl.metadata (50 kB)\n",
            "\u001b[2K     \u001b[90m━━━━━━━━━━━━━━━━━━━━━━━━━━━━━━━━━━━━━━━━\u001b[0m \u001b[32m50.1/50.1 kB\u001b[0m \u001b[31m3.2 MB/s\u001b[0m eta \u001b[36m0:00:00\u001b[0m\n",
            "\u001b[?25hRequirement already satisfied: certifi in /usr/local/lib/python3.12/dist-packages (from elasticsearch==7.16.2->elasticsearch[preprocessing]==7.16.2->pysus) (2025.8.3)\n",
            "\u001b[33mWARNING: elasticsearch 7.16.2 does not provide the extra 'preprocessing'\u001b[0m\u001b[33m\n",
            "\u001b[0mRequirement already satisfied: six>=1.5 in /usr/local/lib/python3.12/dist-packages (from python-dateutil==2.8.2->pysus) (1.17.0)\n",
            "Requirement already satisfied: pytz>=2024.2 in /usr/local/lib/python3.12/dist-packages (from dateparser<2.0.0,>=1.1.8->pysus) (2025.2)\n",
            "Requirement already satisfied: regex>=2024.9.11 in /usr/local/lib/python3.12/dist-packages (from dateparser<2.0.0,>=1.1.8->pysus) (2024.11.6)\n",
            "Requirement already satisfied: tzlocal>=0.2 in /usr/local/lib/python3.12/dist-packages (from dateparser<2.0.0,>=1.1.8->pysus) (5.3.1)\n",
            "Requirement already satisfied: cramjam>=2.3 in /usr/local/lib/python3.12/dist-packages (from fastparquet<=2024.11.0,>=2023.10.1->pysus) (2.11.0)\n",
            "Requirement already satisfied: fsspec in /usr/local/lib/python3.12/dist-packages (from fastparquet<=2024.11.0,>=2023.10.1->pysus) (2025.3.0)\n",
            "Requirement already satisfied: packaging in /usr/local/lib/python3.12/dist-packages (from fastparquet<=2024.11.0,>=2023.10.1->pysus) (25.0)\n",
            "Requirement already satisfied: tzdata>=2022.7 in /usr/local/lib/python3.12/dist-packages (from pandas<3.0.0,>=2.2.2->pysus) (2025.2)\n",
            "Collecting cffi<2,>=1.15.1 (from pyreaddbc>=1.1.0->pysus)\n",
            "  Downloading cffi-1.17.1-cp312-cp312-manylinux_2_17_x86_64.manylinux2014_x86_64.whl.metadata (1.5 kB)\n",
            "Requirement already satisfied: pyyaml>=6 in /usr/local/lib/python3.12/dist-packages (from pyreaddbc>=1.1.0->pysus) (6.0.2)\n",
            "Requirement already satisfied: wcwidth in /usr/local/lib/python3.12/dist-packages (from urwid<3.0.0,>=2.1.2->pysus) (0.2.13)\n",
            "Downloading pysus-1.0.0-py3-none-any.whl (1.4 MB)\n",
            "\u001b[2K   \u001b[90m━━━━━━━━━━━━━━━━━━━━━━━━━━━━━━━━━━━━━━━━\u001b[0m \u001b[32m1.4/1.4 MB\u001b[0m \u001b[31m26.6 MB/s\u001b[0m eta \u001b[36m0:00:00\u001b[0m\n",
            "\u001b[?25hDownloading dbfread-2.0.7-py2.py3-none-any.whl (20 kB)\n",
            "Downloading elasticsearch-7.16.2-py2.py3-none-any.whl (385 kB)\n",
            "\u001b[2K   \u001b[90m━━━━━━━━━━━━━━━━━━━━━━━━━━━━━━━━━━━━━━━━\u001b[0m \u001b[32m385.7/385.7 kB\u001b[0m \u001b[31m13.7 MB/s\u001b[0m eta \u001b[36m0:00:00\u001b[0m\n",
            "\u001b[?25hDownloading pycparser-2.21-py2.py3-none-any.whl (118 kB)\n",
            "\u001b[2K   \u001b[90m━━━━━━━━━━━━━━━━━━━━━━━━━━━━━━━━━━━━━━━━\u001b[0m \u001b[32m118.7/118.7 kB\u001b[0m \u001b[31m7.8 MB/s\u001b[0m eta \u001b[36m0:00:00\u001b[0m\n",
            "\u001b[?25hDownloading python_dateutil-2.8.2-py2.py3-none-any.whl (247 kB)\n",
            "\u001b[2K   \u001b[90m━━━━━━━━━━━━━━━━━━━━━━━━━━━━━━━━━━━━━━━━\u001b[0m \u001b[32m247.7/247.7 kB\u001b[0m \u001b[31m18.1 MB/s\u001b[0m eta \u001b[36m0:00:00\u001b[0m\n",
            "\u001b[?25hDownloading tqdm-4.64.0-py2.py3-none-any.whl (78 kB)\n",
            "\u001b[2K   \u001b[90m━━━━━━━━━━━━━━━━━━━━━━━━━━━━━━━━━━━━━━━━\u001b[0m \u001b[32m78.4/78.4 kB\u001b[0m \u001b[31m5.8 MB/s\u001b[0m eta \u001b[36m0:00:00\u001b[0m\n",
            "\u001b[?25hDownloading aioftp-0.21.4-py3-none-any.whl (37 kB)\n",
            "Downloading bigtree-0.12.5-py3-none-any.whl (63 kB)\n",
            "\u001b[2K   \u001b[90m━━━━━━━━━━━━━━━━━━━━━━━━━━━━━━━━━━━━━━━━\u001b[0m \u001b[32m63.5/63.5 kB\u001b[0m \u001b[31m3.7 MB/s\u001b[0m eta \u001b[36m0:00:00\u001b[0m\n",
            "\u001b[?25hDownloading dateparser-1.2.2-py3-none-any.whl (315 kB)\n",
            "\u001b[2K   \u001b[90m━━━━━━━━━━━━━━━━━━━━━━━━━━━━━━━━━━━━━━━━\u001b[0m \u001b[32m315.5/315.5 kB\u001b[0m \u001b[31m22.7 MB/s\u001b[0m eta \u001b[36m0:00:00\u001b[0m\n",
            "\u001b[?25hDownloading fastparquet-2024.11.0-cp312-cp312-manylinux_2_17_x86_64.manylinux2014_x86_64.whl (1.8 MB)\n",
            "\u001b[2K   \u001b[90m━━━━━━━━━━━━━━━━━━━━━━━━━━━━━━━━━━━━━━━━\u001b[0m \u001b[32m1.8/1.8 MB\u001b[0m \u001b[31m56.7 MB/s\u001b[0m eta \u001b[36m0:00:00\u001b[0m\n",
            "\u001b[?25hDownloading loguru-0.6.0-py3-none-any.whl (58 kB)\n",
            "\u001b[2K   \u001b[90m━━━━━━━━━━━━━━━━━━━━━━━━━━━━━━━━━━━━━━━━\u001b[0m \u001b[32m58.3/58.3 kB\u001b[0m \u001b[31m3.8 MB/s\u001b[0m eta \u001b[36m0:00:00\u001b[0m\n",
            "\u001b[?25hDownloading Unidecode-1.4.0-py3-none-any.whl (235 kB)\n",
            "\u001b[2K   \u001b[90m━━━━━━━━━━━━━━━━━━━━━━━━━━━━━━━━━━━━━━━━\u001b[0m \u001b[32m235.8/235.8 kB\u001b[0m \u001b[31m16.5 MB/s\u001b[0m eta \u001b[36m0:00:00\u001b[0m\n",
            "\u001b[?25hDownloading urwid-2.6.16-py3-none-any.whl (297 kB)\n",
            "\u001b[2K   \u001b[90m━━━━━━━━━━━━━━━━━━━━━━━━━━━━━━━━━━━━━━━━\u001b[0m \u001b[32m297.2/297.2 kB\u001b[0m \u001b[31m21.2 MB/s\u001b[0m eta \u001b[36m0:00:00\u001b[0m\n",
            "\u001b[?25hDownloading cffi-1.17.1-cp312-cp312-manylinux_2_17_x86_64.manylinux2014_x86_64.whl (479 kB)\n",
            "\u001b[2K   \u001b[90m━━━━━━━━━━━━━━━━━━━━━━━━━━━━━━━━━━━━━━━━\u001b[0m \u001b[32m479.4/479.4 kB\u001b[0m \u001b[31m29.1 MB/s\u001b[0m eta \u001b[36m0:00:00\u001b[0m\n",
            "\u001b[?25hDownloading urllib3-1.26.20-py2.py3-none-any.whl (144 kB)\n",
            "\u001b[2K   \u001b[90m━━━━━━━━━━━━━━━━━━━━━━━━━━━━━━━━━━━━━━━━\u001b[0m \u001b[32m144.2/144.2 kB\u001b[0m \u001b[31m10.5 MB/s\u001b[0m eta \u001b[36m0:00:00\u001b[0m\n",
            "\u001b[?25hBuilding wheels for collected packages: pyreaddbc, wget\n",
            "  Building wheel for pyreaddbc (pyproject.toml) ... \u001b[?25l\u001b[?25hdone\n",
            "  Created wheel for pyreaddbc: filename=pyreaddbc-1.2.0-cp312-cp312-manylinux_2_35_x86_64.whl size=90778 sha256=d4364253c65ae9c05fdf0cea7efa5cd002f519bcc4e8622ca6462d7b85f29ece\n",
            "  Stored in directory: /root/.cache/pip/wheels/74/bb/66/8fdae279ef4c91b7a727a88c5b2412e0f3241ff489538f87b7\n",
            "  Building wheel for wget (setup.py) ... \u001b[?25l\u001b[?25hdone\n",
            "  Created wheel for wget: filename=wget-3.2-py3-none-any.whl size=9655 sha256=441ad872936f476ab759118e6bab6df95987f30dfe88f90cb5a6057acbd3d187\n",
            "  Stored in directory: /root/.cache/pip/wheels/01/46/3b/e29ffbe4ebe614ff224bad40fc6a5773a67a163251585a13a9\n",
            "Successfully built pyreaddbc wget\n",
            "Installing collected packages: wget, dbfread, urwid, urllib3, Unidecode, tqdm, python-dateutil, pycparser, loguru, bigtree, aioftp, elasticsearch, dateparser, cffi, pyreaddbc, fastparquet, pysus\n",
            "  Attempting uninstall: urllib3\n",
            "    Found existing installation: urllib3 2.5.0\n",
            "    Uninstalling urllib3-2.5.0:\n",
            "      Successfully uninstalled urllib3-2.5.0\n",
            "  Attempting uninstall: tqdm\n",
            "    Found existing installation: tqdm 4.67.1\n",
            "    Uninstalling tqdm-4.67.1:\n",
            "      Successfully uninstalled tqdm-4.67.1\n",
            "  Attempting uninstall: python-dateutil\n",
            "    Found existing installation: python-dateutil 2.9.0.post0\n",
            "    Uninstalling python-dateutil-2.9.0.post0:\n",
            "      Successfully uninstalled python-dateutil-2.9.0.post0\n",
            "  Attempting uninstall: pycparser\n",
            "    Found existing installation: pycparser 2.23\n",
            "    Uninstalling pycparser-2.23:\n",
            "      Successfully uninstalled pycparser-2.23\n",
            "  Attempting uninstall: cffi\n",
            "    Found existing installation: cffi 2.0.0\n",
            "    Uninstalling cffi-2.0.0:\n",
            "      Successfully uninstalled cffi-2.0.0\n",
            "\u001b[31mERROR: pip's dependency resolver does not currently take into account all the packages that are installed. This behaviour is the source of the following dependency conflicts.\n",
            "datasets 4.0.0 requires tqdm>=4.66.3, but you have tqdm 4.64.0 which is incompatible.\n",
            "dataproc-spark-connect 0.8.3 requires tqdm>=4.67, but you have tqdm 4.64.0 which is incompatible.\n",
            "dopamine-rl 4.1.2 requires tqdm>=4.64.1, but you have tqdm 4.64.0 which is incompatible.\n",
            "google-adk 1.14.1 requires python-dateutil<3.0.0,>=2.9.0.post0, but you have python-dateutil 2.8.2 which is incompatible.\u001b[0m\u001b[31m\n",
            "\u001b[0mSuccessfully installed Unidecode-1.4.0 aioftp-0.21.4 bigtree-0.12.5 cffi-1.17.1 dateparser-1.2.2 dbfread-2.0.7 elasticsearch-7.16.2 fastparquet-2024.11.0 loguru-0.6.0 pycparser-2.21 pyreaddbc-1.2.0 pysus-1.0.0 python-dateutil-2.8.2 tqdm-4.64.0 urllib3-1.26.20 urwid-2.6.16 wget-3.2\n"
          ]
        },
        {
          "output_type": "display_data",
          "data": {
            "application/vnd.colab-display-data+json": {
              "pip_warning": {
                "packages": [
                  "dateutil"
                ]
              },
              "id": "4e2f93a54e1c4ecf8667f0b6f2ab95f4"
            }
          },
          "metadata": {}
        }
      ],
      "source": [
        "# Instalação da biblioteca pysus\n",
        "!pip install pysus"
      ]
    },
    {
      "cell_type": "code",
      "execution_count": null,
      "metadata": {
        "colab": {
          "base_uri": "https://localhost:8080/",
          "height": 391
        },
        "id": "qLsIOnCYSEtR",
        "outputId": "108de803-50c9-4e70-9625-364e7234bbb8"
      },
      "outputs": [
        {
          "output_type": "stream",
          "name": "stdout",
          "text": [
            "Buscando e baixando dados para o ano: 2018...\n"
          ]
        },
        {
          "output_type": "stream",
          "name": "stderr",
          "text": [
            "RDSP1801.dbc:  12%|█▏        | 1.91M/15.6M [00:04<00:16, 846kB/s]"
          ]
        },
        {
          "output_type": "error",
          "ename": "KeyboardInterrupt",
          "evalue": "",
          "traceback": [
            "\u001b[0;31m---------------------------------------------------------------------------\u001b[0m",
            "\u001b[0;31mKeyboardInterrupt\u001b[0m                         Traceback (most recent call last)",
            "\u001b[0;32m/tmp/ipython-input-3900890222.py\u001b[0m in \u001b[0;36m<cell line: 0>\u001b[0;34m()\u001b[0m\n\u001b[1;32m     21\u001b[0m \u001b[0;34m\u001b[0m\u001b[0m\n\u001b[1;32m     22\u001b[0m     \u001b[0;31m# Baixando os arquivos para a pasta específica do ano\u001b[0m\u001b[0;34m\u001b[0m\u001b[0;34m\u001b[0m\u001b[0m\n\u001b[0;32m---> 23\u001b[0;31m     \u001b[0msih\u001b[0m\u001b[0;34m.\u001b[0m\u001b[0mdownload\u001b[0m\u001b[0;34m(\u001b[0m\u001b[0marquivos_ano\u001b[0m\u001b[0;34m,\u001b[0m \u001b[0mlocal_dir\u001b[0m\u001b[0;34m=\u001b[0m\u001b[0mdiretorio_ano\u001b[0m\u001b[0;34m)\u001b[0m\u001b[0;34m\u001b[0m\u001b[0;34m\u001b[0m\u001b[0m\n\u001b[0m\u001b[1;32m     24\u001b[0m \u001b[0;34m\u001b[0m\u001b[0m\n\u001b[1;32m     25\u001b[0m     \u001b[0mprint\u001b[0m\u001b[0;34m(\u001b[0m\u001b[0;34mf\"Download para {ano} concluído na pasta: {diretorio_ano}\"\u001b[0m\u001b[0;34m)\u001b[0m\u001b[0;34m\u001b[0m\u001b[0;34m\u001b[0m\u001b[0m\n",
            "\u001b[0;32m/usr/local/lib/python3.12/dist-packages/pysus/ftp/__init__.py\u001b[0m in \u001b[0;36mdownload\u001b[0;34m(self, files, local_dir)\u001b[0m\n\u001b[1;32m    560\u001b[0m         \u001b[0;32mfor\u001b[0m \u001b[0mfile\u001b[0m \u001b[0;32min\u001b[0m \u001b[0mfiles\u001b[0m\u001b[0;34m:\u001b[0m\u001b[0;34m\u001b[0m\u001b[0;34m\u001b[0m\u001b[0m\n\u001b[1;32m    561\u001b[0m             \u001b[0;32mif\u001b[0m \u001b[0misinstance\u001b[0m\u001b[0;34m(\u001b[0m\u001b[0mfile\u001b[0m\u001b[0;34m,\u001b[0m \u001b[0mFile\u001b[0m\u001b[0;34m)\u001b[0m\u001b[0;34m:\u001b[0m\u001b[0;34m\u001b[0m\u001b[0;34m\u001b[0m\u001b[0m\n\u001b[0;32m--> 562\u001b[0;31m                 \u001b[0mdfiles\u001b[0m\u001b[0;34m.\u001b[0m\u001b[0mappend\u001b[0m\u001b[0;34m(\u001b[0m\u001b[0mfile\u001b[0m\u001b[0;34m.\u001b[0m\u001b[0mdownload\u001b[0m\u001b[0;34m(\u001b[0m\u001b[0mlocal_dir\u001b[0m\u001b[0;34m=\u001b[0m\u001b[0mlocal_dir\u001b[0m\u001b[0;34m,\u001b[0m \u001b[0m_pbar\u001b[0m\u001b[0;34m=\u001b[0m\u001b[0mpbar\u001b[0m\u001b[0;34m)\u001b[0m\u001b[0;34m)\u001b[0m\u001b[0;34m\u001b[0m\u001b[0;34m\u001b[0m\u001b[0m\n\u001b[0m\u001b[1;32m    563\u001b[0m         \u001b[0mpbar\u001b[0m\u001b[0;34m.\u001b[0m\u001b[0mclose\u001b[0m\u001b[0;34m(\u001b[0m\u001b[0;34m)\u001b[0m\u001b[0;34m\u001b[0m\u001b[0;34m\u001b[0m\u001b[0m\n\u001b[1;32m    564\u001b[0m         \u001b[0;32mif\u001b[0m \u001b[0mlen\u001b[0m\u001b[0;34m(\u001b[0m\u001b[0mdfiles\u001b[0m\u001b[0;34m)\u001b[0m \u001b[0;34m==\u001b[0m \u001b[0;36m1\u001b[0m\u001b[0;34m:\u001b[0m\u001b[0;34m\u001b[0m\u001b[0;34m\u001b[0m\u001b[0m\n",
            "\u001b[0;32m/usr/local/lib/python3.12/dist-packages/pysus/ftp/__init__.py\u001b[0m in \u001b[0;36mdownload\u001b[0;34m(self, local_dir, _pbar)\u001b[0m\n\u001b[1;32m    179\u001b[0m                         \u001b[0m_pbar\u001b[0m\u001b[0;34m.\u001b[0m\u001b[0mupdate\u001b[0m\u001b[0;34m(\u001b[0m\u001b[0mlen\u001b[0m\u001b[0;34m(\u001b[0m\u001b[0mdata\u001b[0m\u001b[0;34m)\u001b[0m\u001b[0;34m)\u001b[0m\u001b[0;34m\u001b[0m\u001b[0;34m\u001b[0m\u001b[0m\n\u001b[1;32m    180\u001b[0m \u001b[0;34m\u001b[0m\u001b[0m\n\u001b[0;32m--> 181\u001b[0;31m                 \u001b[0mftp\u001b[0m\u001b[0;34m.\u001b[0m\u001b[0mretrbinary\u001b[0m\u001b[0;34m(\u001b[0m\u001b[0;34mf\"RETR {self.path}\"\u001b[0m\u001b[0;34m,\u001b[0m \u001b[0mcallback\u001b[0m\u001b[0;34m)\u001b[0m\u001b[0;34m\u001b[0m\u001b[0;34m\u001b[0m\u001b[0m\n\u001b[0m\u001b[1;32m    182\u001b[0m \u001b[0;34m\u001b[0m\u001b[0m\n\u001b[1;32m    183\u001b[0m         \u001b[0;32mexcept\u001b[0m \u001b[0mException\u001b[0m \u001b[0;32mas\u001b[0m \u001b[0mexc\u001b[0m\u001b[0;34m:\u001b[0m\u001b[0;34m\u001b[0m\u001b[0;34m\u001b[0m\u001b[0m\n",
            "\u001b[0;32m/usr/lib/python3.12/ftplib.py\u001b[0m in \u001b[0;36mretrbinary\u001b[0;34m(self, cmd, callback, blocksize, rest)\u001b[0m\n\u001b[1;32m    435\u001b[0m         \u001b[0mself\u001b[0m\u001b[0;34m.\u001b[0m\u001b[0mvoidcmd\u001b[0m\u001b[0;34m(\u001b[0m\u001b[0;34m'TYPE I'\u001b[0m\u001b[0;34m)\u001b[0m\u001b[0;34m\u001b[0m\u001b[0;34m\u001b[0m\u001b[0m\n\u001b[1;32m    436\u001b[0m         \u001b[0;32mwith\u001b[0m \u001b[0mself\u001b[0m\u001b[0;34m.\u001b[0m\u001b[0mtransfercmd\u001b[0m\u001b[0;34m(\u001b[0m\u001b[0mcmd\u001b[0m\u001b[0;34m,\u001b[0m \u001b[0mrest\u001b[0m\u001b[0;34m)\u001b[0m \u001b[0;32mas\u001b[0m \u001b[0mconn\u001b[0m\u001b[0;34m:\u001b[0m\u001b[0;34m\u001b[0m\u001b[0;34m\u001b[0m\u001b[0m\n\u001b[0;32m--> 437\u001b[0;31m             \u001b[0;32mwhile\u001b[0m \u001b[0mdata\u001b[0m \u001b[0;34m:=\u001b[0m \u001b[0mconn\u001b[0m\u001b[0;34m.\u001b[0m\u001b[0mrecv\u001b[0m\u001b[0;34m(\u001b[0m\u001b[0mblocksize\u001b[0m\u001b[0;34m)\u001b[0m\u001b[0;34m:\u001b[0m\u001b[0;34m\u001b[0m\u001b[0;34m\u001b[0m\u001b[0m\n\u001b[0m\u001b[1;32m    438\u001b[0m                 \u001b[0mcallback\u001b[0m\u001b[0;34m(\u001b[0m\u001b[0mdata\u001b[0m\u001b[0;34m)\u001b[0m\u001b[0;34m\u001b[0m\u001b[0;34m\u001b[0m\u001b[0m\n\u001b[1;32m    439\u001b[0m             \u001b[0;31m# shutdown ssl layer\u001b[0m\u001b[0;34m\u001b[0m\u001b[0;34m\u001b[0m\u001b[0m\n",
            "\u001b[0;31mKeyboardInterrupt\u001b[0m: "
          ]
        }
      ],
      "source": [
        "from pysus import SIH\n",
        "import os\n",
        "import pandas as pd\n",
        "\n",
        "# 1. Carregando a biblioteca PySUS, os arquivos do datasus\n",
        "sih = SIH().load()\n",
        "\n",
        "# 2. Definição dos anos para realizar download (como exemplo o ano de 2015, mas pode ser uma lista dos anos desejáveis)\n",
        "anos_para_baixar = [2015]\n",
        "diretorio_base = '/content/dados_sih/dados_datasus/'\n",
        "\n",
        "# 3. Loop para processar cada ano\n",
        "for ano in anos_para_baixar:\n",
        "    diretorio_ano = os.path.join(diretorio_base, str(ano))\n",
        "    os.makedirs(diretorio_ano, exist_ok=True)\n",
        "\n",
        "    print(f\"Buscando e baixando dados para o ano: {ano}...\")\n",
        "\n",
        "    # Buscando os arquivos para o ano atual e para todos os meses\n",
        "    arquivos_ano = sih.get_files(\"RD\", uf=\"sp\", year=ano, month=list(range(1, 13)))\n",
        "\n",
        "    # Baixando os arquivos para a pasta específica do ano\n",
        "    sih.download(arquivos_ano, local_dir=diretorio_ano)\n",
        "\n",
        "    print(f\"Download para {ano} concluído na pasta: {diretorio_ano}\")\n",
        "\n",
        "print(\"\\nProcesso de download para todos os anos concluído!\")"
      ]
    },
    {
      "cell_type": "code",
      "source": [
        "# Importa dados do content para o Google Drive\n",
        "\n",
        "from google.colab import drive\n",
        "import shutil\n",
        "\n",
        "# Monta o seu Google Drive no Colab\n",
        "drive.mount('/content/drive')\n",
        "\n",
        "# Caminho da pasta de origem no Colab\n",
        "caminho_origem = '/content/dados_sih/'\n",
        "\n",
        "# Caminho de destino Google Drive\n",
        "# A pasta principal do seu Drive é '/content/drive/MyDrive/'\n",
        "caminho_destino = '/content/drive/MyDrive/Dado DataSUS/dados_sih/'\n",
        "\n",
        "print(\"Iniciando a transferência dos arquivos para o Google Drive...\")\n",
        "\n",
        "try:\n",
        "    shutil.move(caminho_origem, caminho_destino)\n",
        "    print(\"\\nTransferência concluída com sucesso!\")\n",
        "    print(f\"Os arquivos agora estão salvos em: {caminho_destino}\")\n",
        "\n",
        "except FileNotFoundError:\n",
        "    print(\"\\nErro: A pasta de origem não foi encontrada. Verifique se o caminho está correto.\")\n",
        "\n",
        "except Exception as e:\n",
        "    print(f\"\\nOcorreu um erro durante a transferência: {e}\")\n"
      ],
      "metadata": {
        "colab": {
          "base_uri": "https://localhost:8080/"
        },
        "id": "dUeo6rzn5TJ3",
        "outputId": "f5ccac20-487a-4120-e772-fb898aa02249"
      },
      "execution_count": null,
      "outputs": [
        {
          "output_type": "stream",
          "name": "stdout",
          "text": [
            "Drive already mounted at /content/drive; to attempt to forcibly remount, call drive.mount(\"/content/drive\", force_remount=True).\n",
            "Iniciando a transferência dos arquivos para o Google Drive...\n",
            "\n",
            "Transferência concluída com sucesso!\n",
            "Os arquivos agora estão salvos em: /content/drive/MyDrive/Dado DataSUS/dados_sih/\n"
          ]
        }
      ]
    }
  ],
  "metadata": {
    "colab": {
      "provenance": [],
      "authorship_tag": "ABX9TyOkc8eKUg309DqjOOndMPTx",
      "include_colab_link": true
    },
    "kernelspec": {
      "display_name": "Python 3",
      "name": "python3"
    },
    "language_info": {
      "name": "python"
    }
  },
  "nbformat": 4,
  "nbformat_minor": 0
}